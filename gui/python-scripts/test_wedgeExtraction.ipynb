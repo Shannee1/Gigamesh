{
 "cells": [
  {
   "cell_type": "code",
   "execution_count": 1,
   "metadata": {},
   "outputs": [],
   "source": [
    "# \n",
    "# GigaMesh - The GigaMesh Software Framework is a modular software for display,\n",
    "# editing and visualization of 3D-data typically acquired with structured light or\n",
    "# structure from motion.\n",
    "# Copyright (C) 2009-2020 Hubert Mara\n",
    "#\n",
    "# This file is part of GigaMesh.\n",
    "#\n",
    "# GigaMesh is free software: you can redistribute it and/or modify\n",
    "# it under the terms of the GNU General Public License as published by\n",
    "# the Free Software Foundation, either version 3 of the License, or\n",
    "# (at your option) any later version.\n",
    "#\n",
    "# GigaMesh is distributed in the hope that it will be useful,\n",
    "# but WITHOUT ANY WARRANTY; without even the implied warranty of\n",
    "# MERCHANTABILITY or FITNESS FOR A PARTICULAR PURPOSE.  See the\n",
    "# GNU General Public License for more details.\n",
    "#\n",
    "# You should have received a copy of the GNU General Public License\n",
    "# along with GigaMesh.  If not, see <http://www.gnu.org/licenses/>.\n",
    "# "
   ]
  },
  {
   "cell_type": "code",
   "execution_count": null,
   "metadata": {},
   "outputs": [],
   "source": [
    "import requests"
   ]
  },
  {
   "cell_type": "code",
   "execution_count": 14,
   "metadata": {},
   "outputs": [],
   "source": [
    "url = 'http://localhost:8080'\n",
    "filename = '../../../testData/testMesh.ply'"
   ]
  },
  {
   "cell_type": "code",
   "execution_count": 15,
   "metadata": {},
   "outputs": [
    {
     "name": "stdout",
     "output_type": "stream",
     "text": [
      "202 - Mesh loaded successfully.\n"
     ]
    }
   ],
   "source": [
    "# request load mesh\n",
    "r = requests.post(url+'/load?filename=' + filename) \n",
    "if(r):\n",
    "    print(str(r.status_code) + \" - Mesh loaded successfully.\")\n",
    "else:\n",
    "    print(str(r.status_code) + \" - Error while loading mesh!\")"
   ]
  },
  {
   "cell_type": "code",
   "execution_count": 16,
   "metadata": {},
   "outputs": [
    {
     "name": "stdout",
     "output_type": "stream",
     "text": [
      "202 - NMS completed.\n"
     ]
    }
   ],
   "source": [
    "# request non maximum supression\n",
    "r = requests.post(url+'/nonMaxSupp?nms_distance=1.5')\n",
    "if(r):\n",
    "    print(str(r.status_code) + \" - NMS completed.\")\n",
    "else:\n",
    "    print(str(r.status_code) + \" - Error while NMS!\")"
   ]
  },
  {
   "cell_type": "code",
   "execution_count": 17,
   "metadata": {},
   "outputs": [
    {
     "name": "stdout",
     "output_type": "stream",
     "text": [
      "202 - Feature Elements By Index completed.\n"
     ]
    }
   ],
   "source": [
    "# request visualization of feature vector\n",
    "r = requests.post(url+'/featureElementsByIndex?element_nr=17')\n",
    "if(r):\n",
    "    print(str(r.status_code) + \" - Feature Elements By Index completed.\")\n",
    "else:\n",
    "    print(str(r.status_code) + \" - Error while feature Elements By Index!\")"
   ]
  },
  {
   "cell_type": "code",
   "execution_count": 18,
   "metadata": {},
   "outputs": [
    {
     "name": "stdout",
     "output_type": "stream",
     "text": [
      "202 - Watershed completed.\n"
     ]
    }
   ],
   "source": [
    "# request watershed\n",
    "r = requests.post(url+'/watershed?deletable_input=0.0')\n",
    "if(r):\n",
    "    print(str(r.status_code) + \" - Watershed completed.\")\n",
    "else:\n",
    "    print(str(r.status_code) + \" - Error while watershed!\")"
   ]
  },
  {
   "cell_type": "code",
   "execution_count": 19,
   "metadata": {},
   "outputs": [
    {
     "name": "stdout",
     "output_type": "stream",
     "text": [
      "202 - Feature Elements By Index completed.\n"
     ]
    }
   ],
   "source": [
    "# request visualization of feature vector\n",
    "r = requests.post(url+'/featureElementsByIndex?element_nr=19')\n",
    "if(r):\n",
    "    print(str(r.status_code) + \" - Feature Elements By Index completed.\")\n",
    "else:\n",
    "    print(str(r.status_code) + \" - Error while feature Elements By Index!\")"
   ]
  },
  {
   "cell_type": "code",
   "execution_count": 20,
   "metadata": {},
   "outputs": [
    {
     "name": "stdout",
     "output_type": "stream",
     "text": [
      "202 - Clustering completed.\n"
     ]
    }
   ],
   "source": [
    "# request clustering\n",
    "r = requests.post(url+'/clustering?number_iterations=100')\n",
    "if(r):\n",
    "    print(str(r.status_code) + \" - Clustering completed.\")\n",
    "else:\n",
    "    print(str(r.status_code) + \" - Error while clustering!\")"
   ]
  },
  {
   "cell_type": "code",
   "execution_count": 21,
   "metadata": {},
   "outputs": [
    {
     "name": "stdout",
     "output_type": "stream",
     "text": [
      "202 - Feature Elements By Index completed.\n"
     ]
    }
   ],
   "source": [
    "# request visualization of feature vector\n",
    "r = requests.post(url+'/featureElementsByIndex?element_nr=20')\n",
    "if(r):\n",
    "    print(str(r.status_code) + \" - Feature Elements By Index completed.\")\n",
    "else:\n",
    "    print(str(r.status_code) + \" - Error while feature Elements By Index!\")"
   ]
  },
  {
   "cell_type": "code",
   "execution_count": 22,
   "metadata": {},
   "outputs": [
    {
     "name": "stdout",
     "output_type": "stream",
     "text": [
      "202 - RANSAC completed.\n"
     ]
    }
   ],
   "source": [
    "# request ransac\n",
    "r = requests.post(url+'/ransac?number_iterations=100')\n",
    "feature_results = r.text\n",
    "if(r):\n",
    "    print(str(r.status_code) + \" - RANSAC completed.\")\n",
    "else:\n",
    "    print(str(r.status_code) + \" - Error while ransac!\")"
   ]
  },
  {
   "cell_type": "code",
   "execution_count": 23,
   "metadata": {},
   "outputs": [
    {
     "name": "stdout",
     "output_type": "stream",
     "text": [
      "\r\n",
      "\r\n",
      "\r\n",
      "\n"
     ]
    }
   ],
   "source": [
    "# print feature elements returned by ransac\n",
    "print(feature_results)"
   ]
  },
  {
   "cell_type": "code",
   "execution_count": 24,
   "metadata": {},
   "outputs": [
    {
     "name": "stdout",
     "output_type": "stream",
     "text": [
      "202 - Feature Elements By Index completed.\n"
     ]
    }
   ],
   "source": [
    "# request visualization of feature vector\n",
    "r = requests.post(url+'/featureElementsByIndex?element_nr=21')\n",
    "if(r):\n",
    "    print(str(r.status_code) + \" - Feature Elements By Index completed.\")\n",
    "else:\n",
    "    print(str(r.status_code) + \" - Error while feature Elements By Index!\")"
   ]
  },
  {
   "cell_type": "code",
   "execution_count": null,
   "metadata": {},
   "outputs": [],
   "source": []
  }
 ],
 "metadata": {
  "kernelspec": {
   "display_name": "Python 3",
   "language": "python",
   "name": "python3"
  },
  "language_info": {
   "codemirror_mode": {
    "name": "ipython",
    "version": 3
   },
   "file_extension": ".py",
   "mimetype": "text/x-python",
   "name": "python",
   "nbconvert_exporter": "python",
   "pygments_lexer": "ipython3",
   "version": "3.8.3"
  }
 },
 "nbformat": 4,
 "nbformat_minor": 4
}
